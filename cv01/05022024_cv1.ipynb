{
  "nbformat": 4,
  "nbformat_minor": 0,
  "metadata": {
    "colab": {
      "provenance": [],
      "authorship_tag": "ABX9TyOe4XxbxPHxBnXdpLa7UROp"
    },
    "kernelspec": {
      "name": "python3",
      "display_name": "Python 3"
    },
    "language_info": {
      "name": "python"
    }
  },
  "cells": [
    {
      "cell_type": "markdown",
      "source": [
        "# Excercise 1"
      ],
      "metadata": {
        "id": "nT3pZG27XFMd"
      }
    },
    {
      "cell_type": "markdown",
      "source": [
        "## Exercise 1.1"
      ],
      "metadata": {
        "id": "FtX5WU8vp8bz"
      }
    },
    {
      "cell_type": "code",
      "execution_count": null,
      "metadata": {
        "colab": {
          "base_uri": "https://localhost:8080/"
        },
        "id": "MgWY8MAJm1EI",
        "outputId": "1a5c8a00-2d7b-44f9-faf9-8235997f1b64"
      },
      "outputs": [
        {
          "output_type": "stream",
          "name": "stdout",
          "text": [
            "X \n",
            "X X \n",
            "X X X \n",
            "X X X X \n",
            "X X X X X \n",
            "X X X X \n",
            "X X X \n",
            "X X \n",
            "X \n"
          ]
        }
      ],
      "source": [
        "import sys\n",
        "\n",
        "for i in range(1,10):\n",
        "  if i<5:\n",
        "    for i in range(0,i):\n",
        "      sys.stdout.write(\"X \")\n",
        "  else:\n",
        "    for i in range(0,5-abs(i-5)):\n",
        "      sys.stdout.write(\"X \")\n",
        "  sys.stdout.write(\"\\n\")"
      ]
    },
    {
      "cell_type": "markdown",
      "source": [
        "## Exercise 1.2"
      ],
      "metadata": {
        "id": "WXWcTrDyqDhW"
      }
    },
    {
      "cell_type": "code",
      "source": [
        "input_str = \"n45as29@#8ss6\"\n",
        "sum=0\n",
        "\n",
        "for i in range(0,len(input_str)):\n",
        "  if ord(input_str[i])>47 and ord(input_str[i])<58:\n",
        "    sum=sum+(ord(input_str[i])-48)\n",
        "print(sum)"
      ],
      "metadata": {
        "colab": {
          "base_uri": "https://localhost:8080/"
        },
        "id": "JRJiHN-XqGXM",
        "outputId": "9f38657f-ce73-4c72-cf67-5c9080dd3c60"
      },
      "execution_count": null,
      "outputs": [
        {
          "output_type": "stream",
          "name": "stdout",
          "text": [
            "34\n"
          ]
        }
      ]
    },
    {
      "cell_type": "markdown",
      "source": [
        "## Excercise 1.3"
      ],
      "metadata": {
        "id": "LckHIAC3r2FR"
      }
    },
    {
      "cell_type": "code",
      "source": [
        "number=int(input())\n",
        "output_arr=\"\"\n",
        "\n",
        "while 1:\n",
        "  if number%2==0:\n",
        "    output_arr=\"0\"+output_arr\n",
        "  else:\n",
        "    output_arr=\"1\"+output_arr\n",
        "    number=number-1\n",
        "  number=number/2\n",
        "  if number==0:\n",
        "    break\n",
        "print(output_arr)"
      ],
      "metadata": {
        "colab": {
          "base_uri": "https://localhost:8080/"
        },
        "id": "6_4ONbOfr36b",
        "outputId": "2155e7db-78fc-4e08-86fe-28124918425b"
      },
      "execution_count": null,
      "outputs": [
        {
          "output_type": "stream",
          "name": "stdout",
          "text": [
            "20\n",
            "10100\n"
          ]
        }
      ]
    },
    {
      "cell_type": "markdown",
      "source": [
        "## Excercise 1.4"
      ],
      "metadata": {
        "id": "NKDgEOF3uA09"
      }
    },
    {
      "cell_type": "code",
      "source": [
        "def fibonaci(upper_threshold: int) -> list:\n",
        "  num1=0\n",
        "  num2=1\n",
        "  output=[num1,num2]\n",
        "\n",
        "  while 1:\n",
        "    temp=num1+num2\n",
        "    if(temp>=upper_threshold):\n",
        "      break\n",
        "    output.append(temp)\n",
        "    num1=num2;\n",
        "    num2=temp\n",
        "\n",
        "  return output\n",
        "\n",
        "print(fibonaci(10))"
      ],
      "metadata": {
        "colab": {
          "base_uri": "https://localhost:8080/"
        },
        "id": "XPHtlKqxuDCE",
        "outputId": "a5ee3245-986f-4b67-bf4b-274eda4f4374"
      },
      "execution_count": null,
      "outputs": [
        {
          "output_type": "stream",
          "name": "stdout",
          "text": [
            "[0, 1, 1, 2, 3, 5, 8]\n"
          ]
        }
      ]
    },
    {
      "cell_type": "markdown",
      "source": [
        "## Excercise 1.5\n",
        "\n"
      ],
      "metadata": {
        "id": "E3JY61e3zKcD"
      }
    },
    {
      "cell_type": "code",
      "source": [
        "import random\n",
        "\n",
        "def rock_paper_scissors(number_of_games) -> None:\n",
        "  pc=0\n",
        "  user=0\n",
        "  for i in range(0,number_of_games):\n",
        "    options=[\"rock\",\"paper\",\"scissors\"]\n",
        "    while 1:\n",
        "      us_choice=input();\n",
        "      if str.lower(us_choice)==\"rock\" or str.lower(us_choice)==\"paper\" or str.lower(us_choice)==\"scissors\":\n",
        "        break\n",
        "    pc_choice=random.randrange(3)\n",
        "    if options[pc_choice]==str.lower(us_choice):\n",
        "      print(\"In this run it is a tie\")\n",
        "    elif (pc_choice==2 and str.lower(us_choice)==options[1]):\n",
        "      print(\"In this run you lose\")\n",
        "      pc=pc+1\n",
        "    elif (pc_choice==1 and str.lower(us_choice)==options[2]):\n",
        "      print(\"In this run you win\")\n",
        "      user=user+1\n",
        "    elif options[pc_choice]>str.lower(us_choice):\n",
        "      print(\"In this run you win\")\n",
        "      user=user+1\n",
        "    else:\n",
        "      print(\"In this run you lose\")\n",
        "      pc=pc+1\n",
        "    print('Computers choice was: '+ options[pc_choice])\n",
        "    print(\"Score is: \\n\\t computer: \"+str(pc)+\"\\n\\t user: \"+str(user))\n",
        "  if(user>pc):\n",
        "    print(\"In total you win\")\n",
        "  elif(user<pc):\n",
        "    print(\"In total you lose\")\n",
        "  else:\n",
        "    print(\"In total it is tie\")\n",
        "\n",
        "rock_paper_scissors(3)"
      ],
      "metadata": {
        "colab": {
          "base_uri": "https://localhost:8080/"
        },
        "id": "oIg26QJXzOHN",
        "outputId": "4b7bb85a-74e1-4b45-ff7a-a7a6fef7f94e"
      },
      "execution_count": null,
      "outputs": [
        {
          "output_type": "stream",
          "name": "stdout",
          "text": [
            "rock\n",
            "In this run it is a tie\n",
            "Computers choice was: rock\n",
            "Score is: \n",
            "\t computer: 0\n",
            "\t user: 0\n",
            "rock\n",
            "In this run you lose\n",
            "Computers choice was: paper\n",
            "Score is: \n",
            "\t computer: 1\n",
            "\t user: 0\n",
            "rock\n",
            "In this run it is a tie\n",
            "Computers choice was: rock\n",
            "Score is: \n",
            "\t computer: 1\n",
            "\t user: 0\n",
            "In total you lose\n"
          ]
        }
      ]
    },
    {
      "cell_type": "markdown",
      "source": [
        "# Excercise 2"
      ],
      "metadata": {
        "id": "TaGb5795XK3d"
      }
    },
    {
      "cell_type": "markdown",
      "source": [
        "## Excercise 2.1"
      ],
      "metadata": {
        "id": "DZwf72mq5g03"
      }
    },
    {
      "cell_type": "code",
      "source": [
        "import numpy\n",
        "import time\n",
        "\n",
        "m1=numpy.zeros((5,5))\n",
        "m2=numpy.zeros((5,5))\n",
        "\n",
        "m=0\n",
        "n=0\n",
        "\n",
        "for i in range(0,25):\n",
        "  m1[m,n]=abs(i-25)\n",
        "  m2[m,n]=abs(i-25)\n",
        "  n=n+1\n",
        "  if n==5:\n",
        "    n=0\n",
        "    m=m+1\n",
        "print(m1)\n",
        "\n",
        "def set_by_threshhold(matrix,thr):\n",
        "  m=0\n",
        "  n=0\n",
        "\n",
        "  for i in range(0,matrix.size):\n",
        "    if(thr>matrix[m,n]):\n",
        "      matrix[m,n]=0\n",
        "    n=n+1\n",
        "    if n==len(matrix):\n",
        "      n=0\n",
        "      m=m+1\n",
        "\n",
        "def set_by_threshhold2(matrix,thr):\n",
        "  result=(matrix<thr)*matrix    #https://stackoverflow.com/questions/36719997/threshold-in-2d-numpy-array\n",
        "\n",
        "start=time.time()\n",
        "set_by_threshhold(m1,10)\n",
        "end=time.time()\n",
        "print(\" \")\n",
        "print(\"Time elpased\" + str(end-start))\n",
        "print(m1)\n",
        "\n",
        "start=time.time()\n",
        "set_by_threshhold2(m2,10)\n",
        "end=time.time()\n",
        "print(\" \")\n",
        "print(\"Time elpased\" + str(end-start))\n",
        "print(m1)"
      ],
      "metadata": {
        "colab": {
          "base_uri": "https://localhost:8080/"
        },
        "id": "EWaYtHQe5jt8",
        "outputId": "f544f829-b19a-43af-f55e-595398819841"
      },
      "execution_count": 122,
      "outputs": [
        {
          "output_type": "stream",
          "name": "stdout",
          "text": [
            "[[25. 24. 23. 22. 21.]\n",
            " [20. 19. 18. 17. 16.]\n",
            " [15. 14. 13. 12. 11.]\n",
            " [10.  9.  8.  7.  6.]\n",
            " [ 5.  4.  3.  2.  1.]]\n",
            " \n",
            "Time elpased0.00011968612670898438\n",
            "[[25. 24. 23. 22. 21.]\n",
            " [20. 19. 18. 17. 16.]\n",
            " [15. 14. 13. 12. 11.]\n",
            " [10.  0.  0.  0.  0.]\n",
            " [ 0.  0.  0.  0.  0.]]\n",
            " \n",
            "Time elpased0.00016880035400390625\n",
            "[[25. 24. 23. 22. 21.]\n",
            " [20. 19. 18. 17. 16.]\n",
            " [15. 14. 13. 12. 11.]\n",
            " [10.  0.  0.  0.  0.]\n",
            " [ 0.  0.  0.  0.  0.]]\n"
          ]
        }
      ]
    },
    {
      "cell_type": "markdown",
      "source": [
        "## Excercise 2.2"
      ],
      "metadata": {
        "id": "wfu3lZDvLYIt"
      }
    },
    {
      "cell_type": "code",
      "source": [
        "import matplotlib.pyplot as plt\n",
        "import numpy as np\n",
        "\n",
        "\n",
        "def show_in_digi(input_integer: float) -> None:\n",
        "\n",
        "  numbs = {\n",
        "      \"1\": np.array([[0, 1, 1], [1, 0, 1], [0, 0, 1], [0, 0, 1], [0, 0, 1]]), # 1\n",
        "      \"2\": np.array([[1, 1, 1], [0, 0, 1], [1, 1, 1], [1, 0, 0], [1, 1, 1]]), # 2\n",
        "      \"3\": np.array([[1, 1, 1], [0, 0, 1], [1, 1, 1], [0, 0, 1], [1, 1, 1]]), # 3\n",
        "      \"4\": np.array([[1, 0, 1], [1, 0, 1], [1, 1, 1], [0, 0, 1], [0, 0, 1]]), # 4\n",
        "      \"5\": np.array([[1, 1, 1], [1, 0, 0], [1, 1, 1], [0, 0, 1], [1, 1, 1]]), # 5\n",
        "      \"6\": np.array([[1, 1, 1], [1, 0, 0], [1, 1, 1], [1, 0, 1], [1, 1, 1]]), # 6\n",
        "      \"7\": np.array([[1, 1, 1], [0, 0, 1], [0, 0, 1], [0, 0, 1], [0, 0, 1]]), # 7\n",
        "      \"8\": np.array([[1, 1, 1], [1, 0, 1], [1, 1, 1], [1, 0, 1], [1, 1, 1]]), # 8\n",
        "      \"9\": np.array([[1, 1, 1], [1, 0, 1], [1, 1, 1], [0, 0, 1], [1, 1, 1]]), # 9\n",
        "      \"0\": np.array([[1, 1, 1], [1, 0, 1], [1, 0, 1], [1, 0, 1], [1, 1, 1]]), # 0\n",
        "      \".\": np.array([[0], [0], [0], [0], [1]]), # .\n",
        "  }\n",
        "  space=np.array([[0], [0], [0], [0], [0]])\n",
        "\n",
        "  num=str(input_integer)\n",
        "  out=space\n",
        "\n",
        "  for i in num:\n",
        "    out=np.concatenate((out,numbs[i],space),1)\n",
        "\n",
        "  plt.imshow(out)\n",
        "  pass\n",
        "\n",
        "\n",
        "show_in_digi(5289.2)"
      ],
      "metadata": {
        "colab": {
          "base_uri": "https://localhost:8080/",
          "height": 168
        },
        "id": "PIntmW1HLa8T",
        "outputId": "23dd2378-d12d-4edb-d0ed-bc731e57afcd"
      },
      "execution_count": 154,
      "outputs": [
        {
          "output_type": "display_data",
          "data": {
            "text/plain": [
              "<Figure size 640x480 with 1 Axes>"
            ],
            "image/png": "[encoded data removed]"
          },
          "metadata": {}
        }
      ]
    },
    {
      "cell_type": "markdown",
      "source": [
        "# Excercise 3"
      ],
      "metadata": {
        "id": "zW6L_EZTPHUf"
      }
    },
    {
      "cell_type": "code",
      "source": [
        "import pandas as pd\n",
        "import matplotlib.pyplot as mp\n",
        "\n",
        "dataset = pd.read_csv('sample_data/california_housing_test.csv')\n",
        "\n",
        "dataset.describe\n",
        "\n",
        "print(\"Bedrooms > 310:\")\n",
        "print(dataset[dataset['total_bedrooms']>310])\n",
        "\n",
        "dataset=dataset.drop([0,len(dataset)-1])\n",
        "print(dataset)\n",
        "\n",
        "mean_households=dataset['households'].mean()\n",
        "print(mean_households)\n",
        "\n",
        "mp.plot(dataset.index,dataset[\"households\"],\"xr\")\n",
        "mp.plot([0,len(dataset)],[mean_households, mean_households],\"k-\")\n",
        "\n",
        "dataset=dataset.fillna(dataset.mean())\n",
        "\n",
        "mp.figure()\n",
        "mp.plot(dataset[\"latitude\"],dataset[\"longitude\"],\"xr\")\n",
        "\n",
        "\n",
        "dataset[\"total_rooms\"]=(dataset[\"total_rooms\"]-dataset[\"total_rooms\"].min())/(dataset[\"total_rooms\"].max()-dataset[\"total_rooms\"].min())\n",
        "dataset[\"total_bedrooms\"]=(dataset[\"total_bedrooms\"]-dataset[\"total_bedrooms\"].min())/(dataset[\"total_bedrooms\"].max()-dataset[\"total_bedrooms\"].min())\n",
        "print(dataset)\n",
        "\n",
        "corelation_matrix=dataset.corr()\n",
        "print(corelation_matrix)\n",
        "\n",
        "\n"
      ],
      "metadata": {
        "colab": {
          "base_uri": "https://localhost:8080/",
          "height": 1000
        },
        "id": "XxBybXLWPJ5n",
        "outputId": "13b0afe2-4df8-4ef1-ed90-68e326ba05cc"
      },
      "execution_count": 180,
      "outputs": [
        {
          "output_type": "stream",
          "name": "stdout",
          "text": [
            "Bedrooms > 310:\n",
            "      longitude  latitude  housing_median_age  total_rooms  total_bedrooms  \\\n",
            "0       -122.05     37.37                27.0       3885.0           661.0   \n",
            "2       -117.81     33.78                27.0       3589.0           507.0   \n",
            "7       -120.65     35.48                19.0       2310.0           471.0   \n",
            "8       -122.84     38.40                15.0       3080.0           617.0   \n",
            "9       -118.02     34.08                31.0       2402.0           632.0   \n",
            "...         ...       ...                 ...          ...             ...   \n",
            "2990    -118.23     34.09                49.0       1638.0           456.0   \n",
            "2991    -117.17     34.28                13.0       4867.0           718.0   \n",
            "2993    -117.91     33.60                37.0       2088.0           510.0   \n",
            "2995    -119.86     34.42                23.0       1450.0           642.0   \n",
            "2996    -118.14     34.06                27.0       5257.0          1082.0   \n",
            "\n",
            "      population  households  median_income  median_house_value  \n",
            "0         1537.0       606.0         6.6085            344700.0  \n",
            "2         1484.0       495.0         5.7934            270500.0  \n",
            "7         1341.0       441.0         3.2250            166900.0  \n",
            "8         1446.0       599.0         3.6696            194400.0  \n",
            "9         2830.0       603.0         2.3333            164200.0  \n",
            "...          ...         ...            ...                 ...  \n",
            "2990      1500.0       430.0         2.6923            150000.0  \n",
            "2991       780.0       250.0         7.1997            253800.0  \n",
            "2993       673.0       390.0         5.1048            500001.0  \n",
            "2995      1258.0       607.0         1.1790            225000.0  \n",
            "2996      3496.0      1036.0         3.3906            237200.0  \n",
            "\n",
            "[2135 rows x 9 columns]\n",
            "      longitude  latitude  housing_median_age  total_rooms  total_bedrooms  \\\n",
            "1       -118.30     34.26                43.0       1510.0           310.0   \n",
            "2       -117.81     33.78                27.0       3589.0           507.0   \n",
            "3       -118.36     33.82                28.0         67.0            15.0   \n",
            "4       -119.67     36.33                19.0       1241.0           244.0   \n",
            "5       -119.56     36.51                37.0       1018.0           213.0   \n",
            "...         ...       ...                 ...          ...             ...   \n",
            "2994    -117.93     33.86                35.0        931.0           181.0   \n",
            "2995    -119.86     34.42                23.0       1450.0           642.0   \n",
            "2996    -118.14     34.06                27.0       5257.0          1082.0   \n",
            "2997    -119.70     36.30                10.0        956.0           201.0   \n",
            "2998    -117.12     34.10                40.0         96.0            14.0   \n",
            "\n",
            "      population  households  median_income  median_house_value  \n",
            "1          809.0       277.0         3.5990            176500.0  \n",
            "2         1484.0       495.0         5.7934            270500.0  \n",
            "3           49.0        11.0         6.1359            330000.0  \n",
            "4          850.0       237.0         2.9375             81700.0  \n",
            "5          663.0       204.0         1.6635             67000.0  \n",
            "...          ...         ...            ...                 ...  \n",
            "2994       516.0       174.0         5.5867            182500.0  \n",
            "2995      1258.0       607.0         1.1790            225000.0  \n",
            "2996      3496.0      1036.0         3.3906            237200.0  \n",
            "2997       693.0       220.0         2.2895             62000.0  \n",
            "2998        46.0        14.0         3.2708            162500.0  \n",
            "\n",
            "[2998 rows x 9 columns]\n",
            "489.9499666444296\n",
            "      longitude  latitude  housing_median_age  total_rooms  total_bedrooms  \\\n",
            "1       -118.30     34.26                43.0     0.049402        0.056858   \n",
            "2       -117.81     33.78                27.0     0.117691        0.093225   \n",
            "3       -118.36     33.82                28.0     0.002004        0.002400   \n",
            "4       -119.67     36.33                19.0     0.040566        0.044674   \n",
            "5       -119.56     36.51                37.0     0.033241        0.038951   \n",
            "...         ...       ...                 ...          ...             ...   \n",
            "2994    -117.93     33.86                35.0     0.030384        0.033044   \n",
            "2995    -119.86     34.42                23.0     0.047431        0.118147   \n",
            "2996    -118.14     34.06                27.0     0.172481        0.199372   \n",
            "2997    -119.70     36.30                10.0     0.031205        0.036736   \n",
            "2998    -117.12     34.10                40.0     0.002956        0.002215   \n",
            "\n",
            "      population  households  median_income  median_house_value  \n",
            "1          809.0       277.0         3.5990            176500.0  \n",
            "2         1484.0       495.0         5.7934            270500.0  \n",
            "3           49.0        11.0         6.1359            330000.0  \n",
            "4          850.0       237.0         2.9375             81700.0  \n",
            "5          663.0       204.0         1.6635             67000.0  \n",
            "...          ...         ...            ...                 ...  \n",
            "2994       516.0       174.0         5.5867            182500.0  \n",
            "2995      1258.0       607.0         1.1790            225000.0  \n",
            "2996      3496.0      1036.0         3.3906            237200.0  \n",
            "2997       693.0       220.0         2.2895             62000.0  \n",
            "2998        46.0        14.0         3.2708            162500.0  \n",
            "\n",
            "[2998 rows x 9 columns]\n",
            "                    longitude  latitude  housing_median_age  total_rooms  \\\n",
            "longitude            1.000000 -0.925073           -0.064285     0.050125   \n",
            "latitude            -0.925073  1.000000           -0.024913    -0.039878   \n",
            "housing_median_age  -0.064285 -0.024913            1.000000    -0.367785   \n",
            "total_rooms          0.050125 -0.039878           -0.367785     1.000000   \n",
            "total_bedrooms       0.071019 -0.068470           -0.323002     0.937763   \n",
            "population           0.111657 -0.117501           -0.299738     0.838888   \n",
            "households           0.051206 -0.068519           -0.305018     0.914125   \n",
            "median_income       -0.018093 -0.072404           -0.145379     0.221625   \n",
            "median_house_value  -0.050221 -0.138481            0.090703     0.160754   \n",
            "\n",
            "                    total_bedrooms  population  households  median_income  \\\n",
            "longitude                 0.071019    0.111657    0.051206      -0.018093   \n",
            "latitude                 -0.068470   -0.117501   -0.068519      -0.072404   \n",
            "housing_median_age       -0.323002   -0.299738   -0.305018      -0.145379   \n",
            "total_rooms               0.937763    0.838888    0.914125       0.221625   \n",
            "total_bedrooms            1.000000    0.856371    0.970753       0.024454   \n",
            "population                0.856371    1.000000    0.895520       0.032885   \n",
            "households                0.970753    0.895520    1.000000       0.049079   \n",
            "median_income             0.024454    0.032885    0.049079       1.000000   \n",
            "median_house_value        0.082829   -0.000699    0.100739       0.671771   \n",
            "\n",
            "                    median_house_value  \n",
            "longitude                    -0.050221  \n",
            "latitude                     -0.138481  \n",
            "housing_median_age            0.090703  \n",
            "total_rooms                   0.160754  \n",
            "total_bedrooms                0.082829  \n",
            "population                   -0.000699  \n",
            "households                    0.100739  \n",
            "median_income                 0.671771  \n",
            "median_house_value            1.000000  \n"
          ]
        },
        {
          "output_type": "display_data",
          "data": {
            "text/plain": [
              "<Figure size 640x480 with 1 Axes>"
            ],
            "image/png": "[encoded data removed]"
          },
          "metadata": {}
        },
        {
          "output_type": "display_data",
          "data": {
            "text/plain": [
              "<Figure size 640x480 with 1 Axes>"
            ],
            "image/png": "[encoded data removed]"
          },
          "metadata": {}
        }
      ]
    }
  ]
}